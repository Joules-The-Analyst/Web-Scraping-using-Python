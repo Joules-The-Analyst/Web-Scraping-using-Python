{
 "cells": [
  {
   "cell_type": "markdown",
   "metadata": {},
   "source": [
    "# Web Scraping In Python\n",
    "\n",
    "**Olojede Joseph**\n",
    "\n",
    "12/8/2024\n",
    "\n",
    "## Introduction\n",
    "\n",
    "Web scraping (or data scraping) is a technique used to collect content and data from the internet. In this project, I utilized the BeautifulSoup library in Python for web scraping to extract data from Wikipedia. The objective was to compile information on the \"List of clubs who have played in the Premier League from its inception in 1992 to the 2024–25 season\"."
   ]
  },
  {
   "cell_type": "markdown",
   "metadata": {},
   "source": [
    "Import the packages"
   ]
  },
  {
   "cell_type": "code",
   "execution_count": 2,
   "metadata": {},
   "outputs": [],
   "source": [
    "from bs4 import BeautifulSoup\n",
    "import pandas as pd\n",
    "import requests\n",
    "import warnings"
   ]
  },
  {
   "cell_type": "markdown",
   "metadata": {},
   "source": [
    "In Python, you can ignore warnings using the warnings module. You can use the filterwarnings function to filter or ignore specific warning messages or categories."
   ]
  },
  {
   "cell_type": "code",
   "execution_count": 3,
   "metadata": {},
   "outputs": [],
   "source": [
    "# Ignore all warnings\n",
    "warnings.filterwarnings(\"ignore\", category=FutureWarning)"
   ]
  },
  {
   "cell_type": "markdown",
   "metadata": {},
   "source": [
    "**Input in the website url.**"
   ]
  },
  {
   "cell_type": "code",
   "execution_count": 4,
   "metadata": {},
   "outputs": [],
   "source": [
    "url = 'https://en.wikipedia.org/wiki/List_of_Premier_League_clubs'\n",
    "\n",
    "page = requests.get(url).text\n",
    "\n",
    "soup = BeautifulSoup(page, 'html')"
   ]
  },
  {
   "cell_type": "markdown",
   "metadata": {},
   "source": [
    "Print the result."
   ]
  },
  {
   "cell_type": "code",
   "execution_count": null,
   "metadata": {},
   "outputs": [],
   "source": [
    "soup"
   ]
  },
  {
   "cell_type": "markdown",
   "metadata": {},
   "source": [
    "Select the first table in the website."
   ]
  },
  {
   "cell_type": "code",
   "execution_count": null,
   "metadata": {},
   "outputs": [],
   "source": [
    "table = soup.find_all('table')[0]\n",
    "table"
   ]
  },
  {
   "cell_type": "markdown",
   "metadata": {},
   "source": [
    "Get the column names of the table."
   ]
  },
  {
   "cell_type": "code",
   "execution_count": null,
   "metadata": {},
   "outputs": [],
   "source": [
    "title = table.find_all('th')\n",
    "title"
   ]
  },
  {
   "cell_type": "markdown",
   "metadata": {},
   "source": [
    "Initiate a for loop to iterate over the list of column names and put it in a list."
   ]
  },
  {
   "cell_type": "code",
   "execution_count": 8,
   "metadata": {},
   "outputs": [
    {
     "data": {
      "text/plain": [
       "['Club',\n",
       " 'Location',\n",
       " 'Totalseasons',\n",
       " 'Totalspells',\n",
       " 'Longestspell',\n",
       " 'Most recentpromotion',\n",
       " 'Most recentrelegation',\n",
       " 'Totalseasonsabsent',\n",
       " 'Seasons',\n",
       " 'Current spell',\n",
       " 'Most recentfinish',\n",
       " 'Highestfinish',\n",
       " 'Top scorer']"
      ]
     },
     "execution_count": 8,
     "metadata": {},
     "output_type": "execute_result"
    }
   ],
   "source": [
    "header_titles = [title.text.strip() for title in title]\n",
    "\n",
    "header_titles"
   ]
  },
  {
   "cell_type": "markdown",
   "metadata": {},
   "source": [
    "Define the table row."
   ]
  },
  {
   "cell_type": "code",
   "execution_count": 9,
   "metadata": {},
   "outputs": [],
   "source": [
    "column_data = table.find_all('tr')"
   ]
  },
  {
   "cell_type": "markdown",
   "metadata": {},
   "source": [
    "Create an empty list and append the row data to the epty list."
   ]
  },
  {
   "cell_type": "code",
   "execution_count": 10,
   "metadata": {},
   "outputs": [],
   "source": [
    "all_data = []\n",
    "\n",
    "for row in column_data[1:]:\n",
    "    row_data = row.find_all('td')\n",
    "    individual_row_data = [data.text.strip() for data in row_data]\n",
    "    all_data.append(individual_row_data)"
   ]
  },
  {
   "cell_type": "markdown",
   "metadata": {},
   "source": [
    "Convert the list and turn it to a DataFrame"
   ]
  },
  {
   "cell_type": "code",
   "execution_count": 11,
   "metadata": {},
   "outputs": [
    {
     "data": {
      "text/html": [
       "<div>\n",
       "<style scoped>\n",
       "    .dataframe tbody tr th:only-of-type {\n",
       "        vertical-align: middle;\n",
       "    }\n",
       "\n",
       "    .dataframe tbody tr th {\n",
       "        vertical-align: top;\n",
       "    }\n",
       "\n",
       "    .dataframe thead th {\n",
       "        text-align: right;\n",
       "    }\n",
       "</style>\n",
       "<table border=\"1\" class=\"dataframe\">\n",
       "  <thead>\n",
       "    <tr style=\"text-align: right;\">\n",
       "      <th></th>\n",
       "      <th>Club</th>\n",
       "      <th>Location</th>\n",
       "      <th>Totalseasons</th>\n",
       "      <th>Totalspells</th>\n",
       "      <th>Longestspell</th>\n",
       "      <th>Most recentpromotion</th>\n",
       "      <th>Most recentrelegation</th>\n",
       "      <th>Totalseasonsabsent</th>\n",
       "      <th>Seasons</th>\n",
       "      <th>Current spell</th>\n",
       "      <th>Most recentfinish</th>\n",
       "      <th>Highestfinish</th>\n",
       "      <th>Top scorer</th>\n",
       "    </tr>\n",
       "  </thead>\n",
       "  <tbody>\n",
       "    <tr>\n",
       "      <th>0</th>\n",
       "      <td>Arsenal</td>\n",
       "      <td>London (Holloway)</td>\n",
       "      <td>33</td>\n",
       "      <td>1</td>\n",
       "      <td>33</td>\n",
       "      <td>1914–15[a]</td>\n",
       "      <td>Never relegated</td>\n",
       "      <td>0</td>\n",
       "      <td>1992–</td>\n",
       "      <td>32</td>\n",
       "      <td>2nd</td>\n",
       "      <td>1st</td>\n",
       "      <td>Thierry Henry (175)</td>\n",
       "    </tr>\n",
       "    <tr>\n",
       "      <th>1</th>\n",
       "      <td>Aston Villa</td>\n",
       "      <td>Birmingham (Aston)</td>\n",
       "      <td>30</td>\n",
       "      <td>2</td>\n",
       "      <td>24</td>\n",
       "      <td>2018–19</td>\n",
       "      <td>2015–16</td>\n",
       "      <td>3</td>\n",
       "      <td>1992–20162019–</td>\n",
       "      <td>5</td>\n",
       "      <td>4th</td>\n",
       "      <td>2nd</td>\n",
       "      <td>Gabriel Agbonlahor (74)</td>\n",
       "    </tr>\n",
       "    <tr>\n",
       "      <th>2</th>\n",
       "      <td>Barnsley</td>\n",
       "      <td>Barnsley</td>\n",
       "      <td>1</td>\n",
       "      <td>1</td>\n",
       "      <td>1</td>\n",
       "      <td>1996–97</td>\n",
       "      <td>1997–98</td>\n",
       "      <td>31</td>\n",
       "      <td>1997–1998</td>\n",
       "      <td>0</td>\n",
       "      <td>League One6th</td>\n",
       "      <td>19th (relegated)</td>\n",
       "      <td>Neil Redfearn (10)</td>\n",
       "    </tr>\n",
       "    <tr>\n",
       "      <th>3</th>\n",
       "      <td>Birmingham City</td>\n",
       "      <td>Birmingham (Bordesley)</td>\n",
       "      <td>7</td>\n",
       "      <td>3</td>\n",
       "      <td>4</td>\n",
       "      <td>2008–09</td>\n",
       "      <td>2010–11</td>\n",
       "      <td>25</td>\n",
       "      <td>2002–20062007–20082009–2011</td>\n",
       "      <td>0</td>\n",
       "      <td>Championship22nd (relegated)</td>\n",
       "      <td>9th</td>\n",
       "      <td>Mikael Forssell (29)</td>\n",
       "    </tr>\n",
       "    <tr>\n",
       "      <th>4</th>\n",
       "      <td>Blackburn Rovers</td>\n",
       "      <td>Blackburn</td>\n",
       "      <td>18</td>\n",
       "      <td>2</td>\n",
       "      <td>11</td>\n",
       "      <td>2000–01</td>\n",
       "      <td>2011–12</td>\n",
       "      <td>14</td>\n",
       "      <td>1992–19992001–2012</td>\n",
       "      <td>0</td>\n",
       "      <td>Championship19th</td>\n",
       "      <td>1st</td>\n",
       "      <td>Alan Shearer (112)</td>\n",
       "    </tr>\n",
       "  </tbody>\n",
       "</table>\n",
       "</div>"
      ],
      "text/plain": [
       "               Club                Location Totalseasons Totalspells  \\\n",
       "0           Arsenal       London (Holloway)           33           1   \n",
       "1       Aston Villa      Birmingham (Aston)           30           2   \n",
       "2          Barnsley                Barnsley            1           1   \n",
       "3   Birmingham City  Birmingham (Bordesley)            7           3   \n",
       "4  Blackburn Rovers               Blackburn           18           2   \n",
       "\n",
       "  Longestspell Most recentpromotion Most recentrelegation Totalseasonsabsent  \\\n",
       "0           33           1914–15[a]       Never relegated                  0   \n",
       "1           24              2018–19               2015–16                  3   \n",
       "2            1              1996–97               1997–98                 31   \n",
       "3            4              2008–09               2010–11                 25   \n",
       "4           11              2000–01               2011–12                 14   \n",
       "\n",
       "                       Seasons Current spell             Most recentfinish  \\\n",
       "0                        1992–            32                           2nd   \n",
       "1               1992–20162019–             5                           4th   \n",
       "2                    1997–1998             0                 League One6th   \n",
       "3  2002–20062007–20082009–2011             0  Championship22nd (relegated)   \n",
       "4           1992–19992001–2012             0              Championship19th   \n",
       "\n",
       "      Highestfinish               Top scorer  \n",
       "0               1st      Thierry Henry (175)  \n",
       "1               2nd  Gabriel Agbonlahor (74)  \n",
       "2  19th (relegated)       Neil Redfearn (10)  \n",
       "3               9th     Mikael Forssell (29)  \n",
       "4               1st       Alan Shearer (112)  "
      ]
     },
     "execution_count": 11,
     "metadata": {},
     "output_type": "execute_result"
    }
   ],
   "source": [
    "df = pd.DataFrame(all_data, columns=header_titles)\n",
    "\n",
    "df.head()"
   ]
  },
  {
   "cell_type": "markdown",
   "metadata": {},
   "source": [
    "Convert the DataFrame to a .csv file and encoded it so Excel can read the ASCII characters well."
   ]
  },
  {
   "cell_type": "code",
   "execution_count": null,
   "metadata": {},
   "outputs": [],
   "source": [
    "df.to_csv('Premier League Clubs from 1992 till 2024-25 Season.csv', index=False, encoding='utf-8-sig')\n"
   ]
  }
 ],
 "metadata": {
  "kernelspec": {
   "display_name": "Python 3",
   "language": "python",
   "name": "python3"
  },
  "language_info": {
   "codemirror_mode": {
    "name": "ipython",
    "version": 3
   },
   "file_extension": ".py",
   "mimetype": "text/x-python",
   "name": "python",
   "nbconvert_exporter": "python",
   "pygments_lexer": "ipython3",
   "version": "3.12.0"
  }
 },
 "nbformat": 4,
 "nbformat_minor": 2
}
